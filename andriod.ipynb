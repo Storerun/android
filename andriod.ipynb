{
 "cells": [
  {
   "cell_type": "code",
   "execution_count": 2,
   "id": "fc89fcd8",
   "metadata": {
    "scrolled": true
   },
   "outputs": [
    {
     "data": {
      "text/html": [
       "<div>\n",
       "<style scoped>\n",
       "    .dataframe tbody tr th:only-of-type {\n",
       "        vertical-align: middle;\n",
       "    }\n",
       "\n",
       "    .dataframe tbody tr th {\n",
       "        vertical-align: top;\n",
       "    }\n",
       "\n",
       "    .dataframe thead th {\n",
       "        text-align: right;\n",
       "    }\n",
       "</style>\n",
       "<table border=\"1\" class=\"dataframe\">\n",
       "  <thead>\n",
       "    <tr style=\"text-align: right;\">\n",
       "      <th></th>\n",
       "      <th>Unnamed: 0</th>\n",
       "      <th>App</th>\n",
       "      <th>Category</th>\n",
       "      <th>Rating</th>\n",
       "      <th>Reviews</th>\n",
       "      <th>Size</th>\n",
       "      <th>Installs</th>\n",
       "      <th>Type</th>\n",
       "      <th>Price</th>\n",
       "      <th>Content Rating</th>\n",
       "      <th>Genres</th>\n",
       "      <th>Last Updated</th>\n",
       "      <th>Current Ver</th>\n",
       "      <th>Android Ver</th>\n",
       "    </tr>\n",
       "  </thead>\n",
       "  <tbody>\n",
       "    <tr>\n",
       "      <th>0</th>\n",
       "      <td>0</td>\n",
       "      <td>Photo Editor &amp; Candy Camera &amp; Grid &amp; ScrapBook</td>\n",
       "      <td>ART_AND_DESIGN</td>\n",
       "      <td>4.1</td>\n",
       "      <td>159</td>\n",
       "      <td>19.0</td>\n",
       "      <td>10,000+</td>\n",
       "      <td>Free</td>\n",
       "      <td>0</td>\n",
       "      <td>Everyone</td>\n",
       "      <td>Art &amp; Design</td>\n",
       "      <td>January 7, 2018</td>\n",
       "      <td>1.0.0</td>\n",
       "      <td>4.0.3 and up</td>\n",
       "    </tr>\n",
       "    <tr>\n",
       "      <th>1</th>\n",
       "      <td>1</td>\n",
       "      <td>Coloring book moana</td>\n",
       "      <td>ART_AND_DESIGN</td>\n",
       "      <td>3.9</td>\n",
       "      <td>967</td>\n",
       "      <td>14.0</td>\n",
       "      <td>500,000+</td>\n",
       "      <td>Free</td>\n",
       "      <td>0</td>\n",
       "      <td>Everyone</td>\n",
       "      <td>Art &amp; Design;Pretend Play</td>\n",
       "      <td>January 15, 2018</td>\n",
       "      <td>2.0.0</td>\n",
       "      <td>4.0.3 and up</td>\n",
       "    </tr>\n",
       "    <tr>\n",
       "      <th>2</th>\n",
       "      <td>2</td>\n",
       "      <td>U Launcher Lite – FREE Live Cool Themes, Hide ...</td>\n",
       "      <td>ART_AND_DESIGN</td>\n",
       "      <td>4.7</td>\n",
       "      <td>87510</td>\n",
       "      <td>8.7</td>\n",
       "      <td>5,000,000+</td>\n",
       "      <td>Free</td>\n",
       "      <td>0</td>\n",
       "      <td>Everyone</td>\n",
       "      <td>Art &amp; Design</td>\n",
       "      <td>August 1, 2018</td>\n",
       "      <td>1.2.4</td>\n",
       "      <td>4.0.3 and up</td>\n",
       "    </tr>\n",
       "    <tr>\n",
       "      <th>3</th>\n",
       "      <td>3</td>\n",
       "      <td>Sketch - Draw &amp; Paint</td>\n",
       "      <td>ART_AND_DESIGN</td>\n",
       "      <td>4.5</td>\n",
       "      <td>215644</td>\n",
       "      <td>25.0</td>\n",
       "      <td>50,000,000+</td>\n",
       "      <td>Free</td>\n",
       "      <td>0</td>\n",
       "      <td>Teen</td>\n",
       "      <td>Art &amp; Design</td>\n",
       "      <td>June 8, 2018</td>\n",
       "      <td>Varies with device</td>\n",
       "      <td>4.2 and up</td>\n",
       "    </tr>\n",
       "    <tr>\n",
       "      <th>4</th>\n",
       "      <td>4</td>\n",
       "      <td>Pixel Draw - Number Art Coloring Book</td>\n",
       "      <td>ART_AND_DESIGN</td>\n",
       "      <td>4.3</td>\n",
       "      <td>967</td>\n",
       "      <td>2.8</td>\n",
       "      <td>100,000+</td>\n",
       "      <td>Free</td>\n",
       "      <td>0</td>\n",
       "      <td>Everyone</td>\n",
       "      <td>Art &amp; Design;Creativity</td>\n",
       "      <td>June 20, 2018</td>\n",
       "      <td>1.1</td>\n",
       "      <td>4.4 and up</td>\n",
       "    </tr>\n",
       "    <tr>\n",
       "      <th>...</th>\n",
       "      <td>...</td>\n",
       "      <td>...</td>\n",
       "      <td>...</td>\n",
       "      <td>...</td>\n",
       "      <td>...</td>\n",
       "      <td>...</td>\n",
       "      <td>...</td>\n",
       "      <td>...</td>\n",
       "      <td>...</td>\n",
       "      <td>...</td>\n",
       "      <td>...</td>\n",
       "      <td>...</td>\n",
       "      <td>...</td>\n",
       "      <td>...</td>\n",
       "    </tr>\n",
       "    <tr>\n",
       "      <th>9654</th>\n",
       "      <td>10836</td>\n",
       "      <td>Sya9a Maroc - FR</td>\n",
       "      <td>FAMILY</td>\n",
       "      <td>4.5</td>\n",
       "      <td>38</td>\n",
       "      <td>53.0</td>\n",
       "      <td>5,000+</td>\n",
       "      <td>Free</td>\n",
       "      <td>0</td>\n",
       "      <td>Everyone</td>\n",
       "      <td>Education</td>\n",
       "      <td>July 25, 2017</td>\n",
       "      <td>1.48</td>\n",
       "      <td>4.1 and up</td>\n",
       "    </tr>\n",
       "    <tr>\n",
       "      <th>9655</th>\n",
       "      <td>10837</td>\n",
       "      <td>Fr. Mike Schmitz Audio Teachings</td>\n",
       "      <td>FAMILY</td>\n",
       "      <td>5.0</td>\n",
       "      <td>4</td>\n",
       "      <td>3.6</td>\n",
       "      <td>100+</td>\n",
       "      <td>Free</td>\n",
       "      <td>0</td>\n",
       "      <td>Everyone</td>\n",
       "      <td>Education</td>\n",
       "      <td>July 6, 2018</td>\n",
       "      <td>1</td>\n",
       "      <td>4.1 and up</td>\n",
       "    </tr>\n",
       "    <tr>\n",
       "      <th>9656</th>\n",
       "      <td>10838</td>\n",
       "      <td>Parkinson Exercices FR</td>\n",
       "      <td>MEDICAL</td>\n",
       "      <td>NaN</td>\n",
       "      <td>3</td>\n",
       "      <td>9.5</td>\n",
       "      <td>1,000+</td>\n",
       "      <td>Free</td>\n",
       "      <td>0</td>\n",
       "      <td>Everyone</td>\n",
       "      <td>Medical</td>\n",
       "      <td>January 20, 2017</td>\n",
       "      <td>1</td>\n",
       "      <td>2.2 and up</td>\n",
       "    </tr>\n",
       "    <tr>\n",
       "      <th>9657</th>\n",
       "      <td>10839</td>\n",
       "      <td>The SCP Foundation DB fr nn5n</td>\n",
       "      <td>BOOKS_AND_REFERENCE</td>\n",
       "      <td>4.5</td>\n",
       "      <td>114</td>\n",
       "      <td>NaN</td>\n",
       "      <td>1,000+</td>\n",
       "      <td>Free</td>\n",
       "      <td>0</td>\n",
       "      <td>Mature 17+</td>\n",
       "      <td>Books &amp; Reference</td>\n",
       "      <td>January 19, 2015</td>\n",
       "      <td>Varies with device</td>\n",
       "      <td>Varies with device</td>\n",
       "    </tr>\n",
       "    <tr>\n",
       "      <th>9658</th>\n",
       "      <td>10840</td>\n",
       "      <td>iHoroscope - 2018 Daily Horoscope &amp; Astrology</td>\n",
       "      <td>LIFESTYLE</td>\n",
       "      <td>4.5</td>\n",
       "      <td>398307</td>\n",
       "      <td>19.0</td>\n",
       "      <td>10,000,000+</td>\n",
       "      <td>Free</td>\n",
       "      <td>0</td>\n",
       "      <td>Everyone</td>\n",
       "      <td>Lifestyle</td>\n",
       "      <td>July 25, 2018</td>\n",
       "      <td>Varies with device</td>\n",
       "      <td>Varies with device</td>\n",
       "    </tr>\n",
       "  </tbody>\n",
       "</table>\n",
       "<p>9659 rows × 14 columns</p>\n",
       "</div>"
      ],
      "text/plain": [
       "      Unnamed: 0                                                App  \\\n",
       "0              0     Photo Editor & Candy Camera & Grid & ScrapBook   \n",
       "1              1                                Coloring book moana   \n",
       "2              2  U Launcher Lite – FREE Live Cool Themes, Hide ...   \n",
       "3              3                              Sketch - Draw & Paint   \n",
       "4              4              Pixel Draw - Number Art Coloring Book   \n",
       "...          ...                                                ...   \n",
       "9654       10836                                   Sya9a Maroc - FR   \n",
       "9655       10837                   Fr. Mike Schmitz Audio Teachings   \n",
       "9656       10838                             Parkinson Exercices FR   \n",
       "9657       10839                      The SCP Foundation DB fr nn5n   \n",
       "9658       10840      iHoroscope - 2018 Daily Horoscope & Astrology   \n",
       "\n",
       "                 Category  Rating  Reviews  Size     Installs  Type Price  \\\n",
       "0          ART_AND_DESIGN     4.1      159  19.0      10,000+  Free     0   \n",
       "1          ART_AND_DESIGN     3.9      967  14.0     500,000+  Free     0   \n",
       "2          ART_AND_DESIGN     4.7    87510   8.7   5,000,000+  Free     0   \n",
       "3          ART_AND_DESIGN     4.5   215644  25.0  50,000,000+  Free     0   \n",
       "4          ART_AND_DESIGN     4.3      967   2.8     100,000+  Free     0   \n",
       "...                   ...     ...      ...   ...          ...   ...   ...   \n",
       "9654               FAMILY     4.5       38  53.0       5,000+  Free     0   \n",
       "9655               FAMILY     5.0        4   3.6         100+  Free     0   \n",
       "9656              MEDICAL     NaN        3   9.5       1,000+  Free     0   \n",
       "9657  BOOKS_AND_REFERENCE     4.5      114   NaN       1,000+  Free     0   \n",
       "9658            LIFESTYLE     4.5   398307  19.0  10,000,000+  Free     0   \n",
       "\n",
       "     Content Rating                     Genres      Last Updated  \\\n",
       "0          Everyone               Art & Design   January 7, 2018   \n",
       "1          Everyone  Art & Design;Pretend Play  January 15, 2018   \n",
       "2          Everyone               Art & Design    August 1, 2018   \n",
       "3              Teen               Art & Design      June 8, 2018   \n",
       "4          Everyone    Art & Design;Creativity     June 20, 2018   \n",
       "...             ...                        ...               ...   \n",
       "9654       Everyone                  Education     July 25, 2017   \n",
       "9655       Everyone                  Education      July 6, 2018   \n",
       "9656       Everyone                    Medical  January 20, 2017   \n",
       "9657     Mature 17+          Books & Reference  January 19, 2015   \n",
       "9658       Everyone                  Lifestyle     July 25, 2018   \n",
       "\n",
       "             Current Ver         Android Ver  \n",
       "0                  1.0.0        4.0.3 and up  \n",
       "1                  2.0.0        4.0.3 and up  \n",
       "2                  1.2.4        4.0.3 and up  \n",
       "3     Varies with device          4.2 and up  \n",
       "4                    1.1          4.4 and up  \n",
       "...                  ...                 ...  \n",
       "9654                1.48          4.1 and up  \n",
       "9655                   1          4.1 and up  \n",
       "9656                   1          2.2 and up  \n",
       "9657  Varies with device  Varies with device  \n",
       "9658  Varies with device  Varies with device  \n",
       "\n",
       "[9659 rows x 14 columns]"
      ]
     },
     "execution_count": 2,
     "metadata": {},
     "output_type": "execute_result"
    }
   ],
   "source": [
    "import pandas as pd\n",
    "apps = pd.read_csv('apps.csv')\n",
    "apps\n"
   ]
  },
  {
   "cell_type": "code",
   "execution_count": 3,
   "id": "0315c874",
   "metadata": {},
   "outputs": [
    {
     "data": {
      "text/plain": [
       "9658"
      ]
     },
     "execution_count": 3,
     "metadata": {},
     "output_type": "execute_result"
    }
   ],
   "source": [
    "apps.index[-1]"
   ]
  },
  {
   "cell_type": "markdown",
   "id": "ac8b3e04",
   "metadata": {},
   "source": [
    "## DATA CLEANING\n",
    "The price and installs columns contain characters that have to be cleaned and restructured. Using the for loop we replace the character symbols from the dataframe column values. After the charcters are removed, we check the data types of the columns. Since the column mixed input types it was categorized as a object data type\n"
   ]
  },
  {
   "cell_type": "code",
   "execution_count": 4,
   "id": "7f1c893f",
   "metadata": {},
   "outputs": [
    {
     "name": "stdout",
     "output_type": "stream",
     "text": [
      "<class 'pandas.core.frame.DataFrame'>\n",
      "RangeIndex: 9659 entries, 0 to 9658\n",
      "Data columns (total 14 columns):\n",
      " #   Column          Non-Null Count  Dtype  \n",
      "---  ------          --------------  -----  \n",
      " 0   Unnamed: 0      9659 non-null   int64  \n",
      " 1   App             9659 non-null   object \n",
      " 2   Category        9659 non-null   object \n",
      " 3   Rating          8196 non-null   float64\n",
      " 4   Reviews         9659 non-null   int64  \n",
      " 5   Size            8432 non-null   float64\n",
      " 6   Installs        9659 non-null   object \n",
      " 7   Type            9659 non-null   object \n",
      " 8   Price           9659 non-null   object \n",
      " 9   Content Rating  9659 non-null   object \n",
      " 10  Genres          9659 non-null   object \n",
      " 11  Last Updated    9659 non-null   object \n",
      " 12  Current Ver     9651 non-null   object \n",
      " 13  Android Ver     9657 non-null   object \n",
      "dtypes: float64(2), int64(2), object(10)\n",
      "memory usage: 1.0+ MB\n"
     ]
    }
   ],
   "source": [
    "characters_to_remove=['$', '+',',']\n",
    "columns_to_clean = ['Price', 'Installs']\n",
    "\n",
    "for char in characters_to_remove:\n",
    "    for col in columns_to_clean:\n",
    "        apps[col]= apps[col].apply(lambda x : x.replace(char,''))\n",
    "apps.info()"
   ]
  },
  {
   "cell_type": "markdown",
   "id": "3e0a85e7",
   "metadata": {},
   "source": [
    "### Change the Data type for Price and Installs columns\n"
   ]
  },
  {
   "cell_type": "code",
   "execution_count": 5,
   "id": "1929b993",
   "metadata": {},
   "outputs": [
    {
     "name": "stdout",
     "output_type": "stream",
     "text": [
      "Installs    float64\n",
      "Price       float64\n",
      "dtype: object\n"
     ]
    }
   ],
   "source": [
    "apps['Price'] = apps['Price'].astype(float)\n",
    "\n",
    "apps['Installs'] = apps['Installs'].astype(float)\n",
    "print(apps[['Installs','Price']].dtypes)"
   ]
  },
  {
   "cell_type": "markdown",
   "id": "2dda85b6",
   "metadata": {},
   "source": [
    "## Exploring app categories\n",
    "We check the number of unique app categories present in our data set and the type of apps categories that are dominating. Here see there are 33 unique categories. From the graph, we see that Family apps have the highest market popularity. "
   ]
  },
  {
   "cell_type": "code",
   "execution_count": 6,
   "id": "8f010af1",
   "metadata": {},
   "outputs": [
    {
     "name": "stdout",
     "output_type": "stream",
     "text": [
      "number of categories =  33\n"
     ]
    }
   ],
   "source": [
    "num_category= len(apps['Category'].unique())\n",
    "print('number of categories = ',num_category)"
   ]
  },
  {
   "cell_type": "code",
   "execution_count": 7,
   "id": "46109246",
   "metadata": {},
   "outputs": [
    {
     "data": {
      "image/png": "[encoded data removed]",
      "text/plain": [
       "<Figure size 864x432 with 1 Axes>"
      ]
     },
     "metadata": {},
     "output_type": "display_data"
    }
   ],
   "source": [
    "import seaborn as sns\n",
    "import matplotlib.pyplot as plt\n",
    "sns.set_style(\"whitegrid\")\n",
    "fig, ax = plt.subplots(figsize=(12,6))\n",
    "\n",
    "num_apps_in_category = apps['Category'].value_counts()\n",
    "sns.barplot(x=num_apps_in_category.index, y=num_apps_in_category.values)\n",
    "ax.set_xticklabels(ax.get_xticklabels(), rotation=90, horizontalalignment='right')\n",
    "plt.show()\n"
   ]
  },
  {
   "cell_type": "markdown",
   "id": "94faed2f",
   "metadata": {},
   "source": [
    "# App rating distribution\n",
    "Here we explore how the apps perform based on their ratings. The ratings is on a scale of 1 to 5. \n",
    "We find out the average rating of apps in all categories is 4.17. The histogram is skewed to the left, which shows that majority of apps are highly rated with a few exceptions in the low rated apps. The kde parameter in the histplot is set to True to show the slope of the distribution."
   ]
  },
  {
   "cell_type": "code",
   "execution_count": 11,
   "id": "8e92953c",
   "metadata": {},
   "outputs": [
    {
     "name": "stdout",
     "output_type": "stream",
     "text": [
      "The average app rating is  4.173243045387998\n"
     ]
    },
    {
     "data": {
      "image/png": "[encoded data removed]",
      "text/plain": [
       "<Figure size 432x288 with 1 Axes>"
      ]
     },
     "metadata": {},
     "output_type": "display_data"
    }
   ],
   "source": [
    "avg_app_rating= apps['Rating'].mean()\n",
    "print('The average app rating is ', avg_app_rating)\n",
    "sns.histplot(x='Rating', data = apps, kde=True)\n",
    "\n",
    "plt.show()"
   ]
  },
  {
   "cell_type": "code",
   "execution_count": null,
   "id": "a9a8d6fb",
   "metadata": {},
   "outputs": [],
   "source": []
  }
 ],
 "metadata": {
  "kernelspec": {
   "display_name": "Python 3",
   "language": "python",
   "name": "python3"
  },
  "language_info": {
   "codemirror_mode": {
    "name": "ipython",
    "version": 3
   },
   "file_extension": ".py",
   "mimetype": "text/x-python",
   "name": "python",
   "nbconvert_exporter": "python",
   "pygments_lexer": "ipython3",
   "version": "3.8.8"
  }
 },
 "nbformat": 4,
 "nbformat_minor": 5
}
